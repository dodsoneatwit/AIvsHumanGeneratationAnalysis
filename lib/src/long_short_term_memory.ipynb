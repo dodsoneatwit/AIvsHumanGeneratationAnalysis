{
 "cells": [
  {
   "cell_type": "code",
   "execution_count": null,
   "metadata": {},
   "outputs": [],
   "source": [
    "# https://pieriantraining.com/tensorflow-lstm-example-a-beginners-guide/\n",
    "# https://www.tensorflow.org/guide/keras/working_with_rnns"
   ]
  }
 ],
 "metadata": {
  "language_info": {
   "name": "python"
  }
 },
 "nbformat": 4,
 "nbformat_minor": 2
}
