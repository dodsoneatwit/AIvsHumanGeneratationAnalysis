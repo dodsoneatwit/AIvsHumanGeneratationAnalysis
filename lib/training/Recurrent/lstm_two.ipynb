{
 "cells": [
  {
   "cell_type": "code",
   "execution_count": 12,
   "metadata": {},
   "outputs": [],
   "source": [
    "# https://pieriantraining.com/tensorflow-lstm-example-a-beginners-guide/\n",
    "# https://www.tensorflow.org/guide/keras/working_with_rnns"
   ]
  },
  {
   "cell_type": "code",
   "execution_count": 13,
   "metadata": {},
   "outputs": [],
   "source": [
    "import numpy as np\n",
    "import pandas as pd\n",
    "import matplotlib as plt\n",
    "import tensorflow as tf\n",
    "import keras\n",
    "from keras.models import load_model\n",
    "from keras import layers\n",
    "from sklearn.preprocessing import LabelEncoder\n",
    "from tensorflow.keras.preprocessing.text import Tokenizer\n",
    "from tensorflow.keras.preprocessing.sequence import pad_sequences\n",
    "from tensorflow.keras.models import Sequential\n",
    "from tensorflow.keras.layers import Embedding, LSTM, Dense\n",
    "import joblib"
   ]
  },
  {
   "cell_type": "code",
   "execution_count": 14,
   "metadata": {},
   "outputs": [
    {
     "data": {
      "text/html": [
       "<div>\n",
       "<style scoped>\n",
       "    .dataframe tbody tr th:only-of-type {\n",
       "        vertical-align: middle;\n",
       "    }\n",
       "\n",
       "    .dataframe tbody tr th {\n",
       "        vertical-align: top;\n",
       "    }\n",
       "\n",
       "    .dataframe thead th {\n",
       "        text-align: right;\n",
       "    }\n",
       "</style>\n",
       "<table border=\"1\" class=\"dataframe\">\n",
       "  <thead>\n",
       "    <tr style=\"text-align: right;\">\n",
       "      <th></th>\n",
       "      <th>Text</th>\n",
       "      <th>Source</th>\n",
       "      <th>Human</th>\n",
       "    </tr>\n",
       "  </thead>\n",
       "  <tbody>\n",
       "    <tr>\n",
       "      <th>287452</th>\n",
       "      <td>ING AsiaPacific Companys Problems Research Pap...</td>\n",
       "      <td>Human</td>\n",
       "      <td>1</td>\n",
       "    </tr>\n",
       "    <tr>\n",
       "      <th>222199</th>\n",
       "      <td>Crisis Love Inquiry Essay Critical Writing fol...</td>\n",
       "      <td>Human</td>\n",
       "      <td>1</td>\n",
       "    </tr>\n",
       "    <tr>\n",
       "      <th>453600</th>\n",
       "      <td>Sure sex segregation makes lot sense many spor...</td>\n",
       "      <td>Human</td>\n",
       "      <td>1</td>\n",
       "    </tr>\n",
       "    <tr>\n",
       "      <th>276338</th>\n",
       "      <td>Christianity Islam Values Essay Christianity f...</td>\n",
       "      <td>Human</td>\n",
       "      <td>1</td>\n",
       "    </tr>\n",
       "    <tr>\n",
       "      <th>78217</th>\n",
       "      <td>Becca liked swim practiced everyday hours ente...</td>\n",
       "      <td>GLM-130B</td>\n",
       "      <td>0</td>\n",
       "    </tr>\n",
       "    <tr>\n",
       "      <th>...</th>\n",
       "      <td>...</td>\n",
       "      <td>...</td>\n",
       "      <td>...</td>\n",
       "    </tr>\n",
       "    <tr>\n",
       "      <th>663613</th>\n",
       "      <td>Mass Eoghan Chada 10 brother Ruairi 5 said St ...</td>\n",
       "      <td>OPT-30B</td>\n",
       "      <td>0</td>\n",
       "    </tr>\n",
       "    <tr>\n",
       "      <th>285976</th>\n",
       "      <td>Asian Teachers Polish Lesson Perfection Stigle...</td>\n",
       "      <td>Human</td>\n",
       "      <td>1</td>\n",
       "    </tr>\n",
       "    <tr>\n",
       "      <th>679335</th>\n",
       "      <td>Move knife slowly avoid slipping accidentally ...</td>\n",
       "      <td>OPT-6.7B</td>\n",
       "      <td>0</td>\n",
       "    </tr>\n",
       "    <tr>\n",
       "      <th>775773</th>\n",
       "      <td>Good dreams likely occur person feeling relaxe...</td>\n",
       "      <td>Text-Davinci-003</td>\n",
       "      <td>0</td>\n",
       "    </tr>\n",
       "    <tr>\n",
       "      <th>366983</th>\n",
       "      <td>Acquired Savant Syndrome Theres 30 cases ever ...</td>\n",
       "      <td>Human</td>\n",
       "      <td>1</td>\n",
       "    </tr>\n",
       "  </tbody>\n",
       "</table>\n",
       "<p>78892 rows × 3 columns</p>\n",
       "</div>"
      ],
      "text/plain": [
       "                                                     Text            Source  \\\n",
       "287452  ING AsiaPacific Companys Problems Research Pap...             Human   \n",
       "222199  Crisis Love Inquiry Essay Critical Writing fol...             Human   \n",
       "453600  Sure sex segregation makes lot sense many spor...             Human   \n",
       "276338  Christianity Islam Values Essay Christianity f...             Human   \n",
       "78217   Becca liked swim practiced everyday hours ente...          GLM-130B   \n",
       "...                                                   ...               ...   \n",
       "663613  Mass Eoghan Chada 10 brother Ruairi 5 said St ...           OPT-30B   \n",
       "285976  Asian Teachers Polish Lesson Perfection Stigle...             Human   \n",
       "679335  Move knife slowly avoid slipping accidentally ...          OPT-6.7B   \n",
       "775773  Good dreams likely occur person feeling relaxe...  Text-Davinci-003   \n",
       "366983  Acquired Savant Syndrome Theres 30 cases ever ...             Human   \n",
       "\n",
       "        Human  \n",
       "287452      1  \n",
       "222199      1  \n",
       "453600      1  \n",
       "276338      1  \n",
       "78217       0  \n",
       "...       ...  \n",
       "663613      0  \n",
       "285976      1  \n",
       "679335      0  \n",
       "775773      0  \n",
       "366983      1  \n",
       "\n",
       "[78892 rows x 3 columns]"
      ]
     },
     "execution_count": 14,
     "metadata": {},
     "output_type": "execute_result"
    }
   ],
   "source": [
    "dataset = pd.read_csv('../../data/preprocessed_data.csv',encoding='ISO-8859-1')\n",
    "dataset = dataset.drop(['Unnamed: 0'], axis=1)\n",
    "dataset = dataset.dropna(subset=['Text'])\n",
    "dataset = dataset.sample(frac=0.1, random_state=42)\n",
    "dataset"
   ]
  },
  {
   "cell_type": "code",
   "execution_count": 15,
   "metadata": {},
   "outputs": [],
   "source": [
    "# Initialize the tokenizer\n",
    "tokenizer = Tokenizer(num_words=5000, oov_token=\"<OOV>\")\n",
    "tokenizer.fit_on_texts(dataset['Text'])"
   ]
  },
  {
   "cell_type": "code",
   "execution_count": 16,
   "metadata": {},
   "outputs": [],
   "source": [
    "# Convert texts to sequences\n",
    "sequences = tokenizer.texts_to_sequences(dataset['Text'])\n",
    "\n",
    "# Pad sequences to ensure uniform input length\n",
    "padded_sequences = pad_sequences(sequences, maxlen=100, padding='post', truncating='post')"
   ]
  },
  {
   "cell_type": "code",
   "execution_count": 17,
   "metadata": {},
   "outputs": [],
   "source": [
    "# unitializing label encoder\n",
    "label_encoder = LabelEncoder()\n",
    "label_encoder.fit(dataset['Human'])\n",
    "\n",
    "# labels to numerical format conversion\n",
    "encoded_labels = label_encoder.transform(dataset['Human'])"
   ]
  },
  {
   "cell_type": "code",
   "execution_count": 33,
   "metadata": {},
   "outputs": [],
   "source": [
    "# LSTM instantiation\n",
    "lstm = Sequential([\n",
    "    Embedding(input_dim=5000, output_dim=128, input_length=100),\n",
    "    LSTM(64, return_sequences=False),\n",
    "    Dense(32),\n",
    "    Dense(len(label_encoder.classes_), activation='softmax')\n",
    "])"
   ]
  },
  {
   "cell_type": "code",
   "execution_count": 34,
   "metadata": {},
   "outputs": [],
   "source": [
    "lstm.compile(optimizer='adam', loss='sparse_categorical_crossentropy', metrics=['accuracy'])"
   ]
  },
  {
   "cell_type": "code",
   "execution_count": 35,
   "metadata": {},
   "outputs": [
    {
     "name": "stdout",
     "output_type": "stream",
     "text": [
      "Epoch 1/10\n"
     ]
    },
    {
     "name": "stdout",
     "output_type": "stream",
     "text": [
      "\u001b[1m1973/1973\u001b[0m \u001b[32m━━━━━━━━━━━━━━━━━━━━\u001b[0m\u001b[37m\u001b[0m \u001b[1m34s\u001b[0m 16ms/step - accuracy: 0.7032 - loss: 0.5575 - val_accuracy: 0.7765 - val_loss: 0.4434\n",
      "Epoch 2/10\n",
      "\u001b[1m1973/1973\u001b[0m \u001b[32m━━━━━━━━━━━━━━━━━━━━\u001b[0m\u001b[37m\u001b[0m \u001b[1m31s\u001b[0m 16ms/step - accuracy: 0.7952 - loss: 0.4131 - val_accuracy: 0.8137 - val_loss: 0.3858\n",
      "Epoch 3/10\n",
      "\u001b[1m1973/1973\u001b[0m \u001b[32m━━━━━━━━━━━━━━━━━━━━\u001b[0m\u001b[37m\u001b[0m \u001b[1m30s\u001b[0m 15ms/step - accuracy: 0.8308 - loss: 0.3547 - val_accuracy: 0.8178 - val_loss: 0.3844\n",
      "Epoch 4/10\n",
      "\u001b[1m1973/1973\u001b[0m \u001b[32m━━━━━━━━━━━━━━━━━━━━\u001b[0m\u001b[37m\u001b[0m \u001b[1m45s\u001b[0m 23ms/step - accuracy: 0.8601 - loss: 0.3025 - val_accuracy: 0.8277 - val_loss: 0.3760\n",
      "Epoch 5/10\n",
      "\u001b[1m1973/1973\u001b[0m \u001b[32m━━━━━━━━━━━━━━━━━━━━\u001b[0m\u001b[37m\u001b[0m \u001b[1m45s\u001b[0m 23ms/step - accuracy: 0.8810 - loss: 0.2677 - val_accuracy: 0.8312 - val_loss: 0.4072\n",
      "Epoch 6/10\n",
      "\u001b[1m1973/1973\u001b[0m \u001b[32m━━━━━━━━━━━━━━━━━━━━\u001b[0m\u001b[37m\u001b[0m \u001b[1m30s\u001b[0m 15ms/step - accuracy: 0.8965 - loss: 0.2373 - val_accuracy: 0.8257 - val_loss: 0.4218\n",
      "Epoch 7/10\n",
      "\u001b[1m1973/1973\u001b[0m \u001b[32m━━━━━━━━━━━━━━━━━━━━\u001b[0m\u001b[37m\u001b[0m \u001b[1m30s\u001b[0m 15ms/step - accuracy: 0.9212 - loss: 0.1911 - val_accuracy: 0.8272 - val_loss: 0.4683\n",
      "Epoch 8/10\n",
      "\u001b[1m1973/1973\u001b[0m \u001b[32m━━━━━━━━━━━━━━━━━━━━\u001b[0m\u001b[37m\u001b[0m \u001b[1m30s\u001b[0m 15ms/step - accuracy: 0.9394 - loss: 0.1555 - val_accuracy: 0.8272 - val_loss: 0.5051\n",
      "Epoch 9/10\n",
      "\u001b[1m1973/1973\u001b[0m \u001b[32m━━━━━━━━━━━━━━━━━━━━\u001b[0m\u001b[37m\u001b[0m \u001b[1m30s\u001b[0m 15ms/step - accuracy: 0.9525 - loss: 0.1240 - val_accuracy: 0.8276 - val_loss: 0.5572\n",
      "Epoch 10/10\n",
      "\u001b[1m1973/1973\u001b[0m \u001b[32m━━━━━━━━━━━━━━━━━━━━\u001b[0m\u001b[37m\u001b[0m \u001b[1m32s\u001b[0m 16ms/step - accuracy: 0.9616 - loss: 0.1001 - val_accuracy: 0.8209 - val_loss: 0.6633\n"
     ]
    },
    {
     "data": {
      "text/plain": [
       "<keras.src.callbacks.history.History at 0x186c84b5540>"
      ]
     },
     "execution_count": 35,
     "metadata": {},
     "output_type": "execute_result"
    }
   ],
   "source": [
    "# training phase\n",
    "lstm.fit(padded_sequences, encoded_labels, epochs=10, batch_size=32, validation_split=0.2)"
   ]
  },
  {
   "cell_type": "code",
   "execution_count": 36,
   "metadata": {},
   "outputs": [],
   "source": [
    "# 0.9616"
   ]
  },
  {
   "cell_type": "code",
   "execution_count": 37,
   "metadata": {},
   "outputs": [],
   "source": [
    "lstm.save('../../models/NeuralNetworks/lstm_two_96.keras')"
   ]
  }
 ],
 "metadata": {
  "kernelspec": {
   "display_name": "env",
   "language": "python",
   "name": "python3"
  },
  "language_info": {
   "codemirror_mode": {
    "name": "ipython",
    "version": 3
   },
   "file_extension": ".py",
   "mimetype": "text/x-python",
   "name": "python",
   "nbconvert_exporter": "python",
   "pygments_lexer": "ipython3",
   "version": "3.10.11"
  }
 },
 "nbformat": 4,
 "nbformat_minor": 2
}
