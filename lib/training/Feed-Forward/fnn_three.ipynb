{
 "cells": [
  {
   "cell_type": "code",
   "execution_count": 25,
   "metadata": {},
   "outputs": [],
   "source": [
    "# https://pieriantraining.com/tensorflow-lstm-example-a-beginners-guide/\n",
    "# https://www.tensorflow.org/guide/keras/working_with_rnns"
   ]
  },
  {
   "cell_type": "code",
   "execution_count": 26,
   "metadata": {},
   "outputs": [],
   "source": [
    "import numpy as np\n",
    "import pandas as pd\n",
    "import matplotlib as plt\n",
    "import tensorflow as tf\n",
    "import keras\n",
    "from keras.models import load_model\n",
    "from keras import layers\n",
    "from sklearn.preprocessing import LabelEncoder\n",
    "from tensorflow.keras.preprocessing.text import Tokenizer\n",
    "from tensorflow.keras.preprocessing.sequence import pad_sequences\n",
    "from tensorflow.keras.models import Sequential\n",
    "from tensorflow.keras.layers import Embedding, LSTM, Dense\n",
    "import joblib"
   ]
  },
  {
   "cell_type": "code",
   "execution_count": 27,
   "metadata": {},
   "outputs": [
    {
     "data": {
      "text/html": [
       "<div>\n",
       "<style scoped>\n",
       "    .dataframe tbody tr th:only-of-type {\n",
       "        vertical-align: middle;\n",
       "    }\n",
       "\n",
       "    .dataframe tbody tr th {\n",
       "        vertical-align: top;\n",
       "    }\n",
       "\n",
       "    .dataframe thead th {\n",
       "        text-align: right;\n",
       "    }\n",
       "</style>\n",
       "<table border=\"1\" class=\"dataframe\">\n",
       "  <thead>\n",
       "    <tr style=\"text-align: right;\">\n",
       "      <th></th>\n",
       "      <th>Text</th>\n",
       "      <th>Source</th>\n",
       "      <th>Human</th>\n",
       "    </tr>\n",
       "  </thead>\n",
       "  <tbody>\n",
       "    <tr>\n",
       "      <th>0</th>\n",
       "      <td>ING AsiaPacific Companys Problems Research Pap...</td>\n",
       "      <td>Human</td>\n",
       "      <td>1</td>\n",
       "    </tr>\n",
       "    <tr>\n",
       "      <th>1</th>\n",
       "      <td>Crisis Love Inquiry Essay Critical Writing fol...</td>\n",
       "      <td>Human</td>\n",
       "      <td>1</td>\n",
       "    </tr>\n",
       "    <tr>\n",
       "      <th>2</th>\n",
       "      <td>Sure sex segregation makes lot sense many spor...</td>\n",
       "      <td>Human</td>\n",
       "      <td>1</td>\n",
       "    </tr>\n",
       "    <tr>\n",
       "      <th>3</th>\n",
       "      <td>Christianity Islam Values Essay Christianity f...</td>\n",
       "      <td>Human</td>\n",
       "      <td>1</td>\n",
       "    </tr>\n",
       "    <tr>\n",
       "      <th>4</th>\n",
       "      <td>Becca liked swim practiced everyday hours ente...</td>\n",
       "      <td>GLM-130B</td>\n",
       "      <td>0</td>\n",
       "    </tr>\n",
       "    <tr>\n",
       "      <th>...</th>\n",
       "      <td>...</td>\n",
       "      <td>...</td>\n",
       "      <td>...</td>\n",
       "    </tr>\n",
       "    <tr>\n",
       "      <th>78887</th>\n",
       "      <td>Mass Eoghan Chada 10 brother Ruairi 5 said St ...</td>\n",
       "      <td>OPT-30B</td>\n",
       "      <td>0</td>\n",
       "    </tr>\n",
       "    <tr>\n",
       "      <th>78888</th>\n",
       "      <td>Asian Teachers Polish Lesson Perfection Stigle...</td>\n",
       "      <td>Human</td>\n",
       "      <td>1</td>\n",
       "    </tr>\n",
       "    <tr>\n",
       "      <th>78889</th>\n",
       "      <td>Move knife slowly avoid slipping accidentally ...</td>\n",
       "      <td>OPT-6.7B</td>\n",
       "      <td>0</td>\n",
       "    </tr>\n",
       "    <tr>\n",
       "      <th>78890</th>\n",
       "      <td>Good dreams likely occur person feeling relaxe...</td>\n",
       "      <td>Text-Davinci-003</td>\n",
       "      <td>0</td>\n",
       "    </tr>\n",
       "    <tr>\n",
       "      <th>78891</th>\n",
       "      <td>Acquired Savant Syndrome Theres 30 cases ever ...</td>\n",
       "      <td>Human</td>\n",
       "      <td>1</td>\n",
       "    </tr>\n",
       "  </tbody>\n",
       "</table>\n",
       "<p>78892 rows × 3 columns</p>\n",
       "</div>"
      ],
      "text/plain": [
       "                                                    Text            Source  \\\n",
       "0      ING AsiaPacific Companys Problems Research Pap...             Human   \n",
       "1      Crisis Love Inquiry Essay Critical Writing fol...             Human   \n",
       "2      Sure sex segregation makes lot sense many spor...             Human   \n",
       "3      Christianity Islam Values Essay Christianity f...             Human   \n",
       "4      Becca liked swim practiced everyday hours ente...          GLM-130B   \n",
       "...                                                  ...               ...   \n",
       "78887  Mass Eoghan Chada 10 brother Ruairi 5 said St ...           OPT-30B   \n",
       "78888  Asian Teachers Polish Lesson Perfection Stigle...             Human   \n",
       "78889  Move knife slowly avoid slipping accidentally ...          OPT-6.7B   \n",
       "78890  Good dreams likely occur person feeling relaxe...  Text-Davinci-003   \n",
       "78891  Acquired Savant Syndrome Theres 30 cases ever ...             Human   \n",
       "\n",
       "       Human  \n",
       "0          1  \n",
       "1          1  \n",
       "2          1  \n",
       "3          1  \n",
       "4          0  \n",
       "...      ...  \n",
       "78887      0  \n",
       "78888      1  \n",
       "78889      0  \n",
       "78890      0  \n",
       "78891      1  \n",
       "\n",
       "[78892 rows x 3 columns]"
      ]
     },
     "execution_count": 27,
     "metadata": {},
     "output_type": "execute_result"
    }
   ],
   "source": [
    "dataset = pd.read_csv('../../data/fraction_preprocessed_data.csv',encoding='ISO-8859-1')\n",
    "dataset = dataset.drop(['Unnamed: 0'], axis=1)\n",
    "dataset = dataset.dropna(subset=['Text'])\n",
    "# dataset = dataset.sample(frac=0.1, random_state=42)\n",
    "dataset"
   ]
  },
  {
   "cell_type": "code",
   "execution_count": 28,
   "metadata": {},
   "outputs": [],
   "source": [
    "# Initialize the tokenizer\n",
    "tokenizer = Tokenizer(num_words=5000, oov_token=\"<OOV>\")\n",
    "tokenizer.fit_on_texts(dataset['Text'])"
   ]
  },
  {
   "cell_type": "code",
   "execution_count": 29,
   "metadata": {},
   "outputs": [],
   "source": [
    "# Convert texts to sequences\n",
    "sequences = tokenizer.texts_to_sequences(dataset['Text'])\n",
    "\n",
    "# Pad sequences to ensure uniform input length\n",
    "padded_sequences = pad_sequences(sequences, maxlen=100, padding='post', truncating='post')"
   ]
  },
  {
   "cell_type": "code",
   "execution_count": 30,
   "metadata": {},
   "outputs": [],
   "source": [
    "# unitializing label encoder\n",
    "label_encoder = LabelEncoder()\n",
    "label_encoder.fit(dataset['Human'])\n",
    "\n",
    "# labels to numerical format conversion\n",
    "encoded_labels = label_encoder.transform(dataset['Human'])"
   ]
  },
  {
   "cell_type": "code",
   "execution_count": 31,
   "metadata": {},
   "outputs": [
    {
     "data": {
      "text/plain": [
       "['../../models/NeuralNetworks/FeedForward/Variables/padded_sequences.pkl']"
      ]
     },
     "execution_count": 31,
     "metadata": {},
     "output_type": "execute_result"
    }
   ],
   "source": [
    "joblib.dump(tokenizer, '../../models/NeuralNetworks/FeedForward/Variables/tokenizer.pkl')\n",
    "joblib.dump(label_encoder, '../../models/NeuralNetworks/FeedForward/Variables/label_encoder.pkl')\n",
    "joblib.dump(encoded_labels, '../../models/NeuralNetworks/FeedForward/Variables/encoded_labels.pkl')\n",
    "joblib.dump(padded_sequences, '../../models/NeuralNetworks/FeedForward/Variables/padded_sequences.pkl')"
   ]
  },
  {
   "cell_type": "code",
   "execution_count": 32,
   "metadata": {},
   "outputs": [
    {
     "name": "stderr",
     "output_type": "stream",
     "text": [
      "c:\\Users\\elija\\VSCodeLocal\\Learning\\Projects\\PrinciplesOfML\\Project\\AIvsHumanGeneratationAnalysis\\env\\lib\\site-packages\\keras\\src\\layers\\core\\dense.py:87: UserWarning: Do not pass an `input_shape`/`input_dim` argument to a layer. When using Sequential models, prefer using an `Input(shape)` object as the first layer in the model instead.\n",
      "  super().__init__(activity_regularizer=activity_regularizer, **kwargs)\n"
     ]
    }
   ],
   "source": [
    "# FNN with 1 Hidden Layer\n",
    "fnn = Sequential([\n",
    "    Dense(128, activation='relu', input_shape=(100,)),\n",
    "    Dense(64, activation='relu'),\n",
    "    Dense(32, activation='relu'),\n",
    "    Dense(1, activation='sigmoid')\n",
    "])"
   ]
  },
  {
   "cell_type": "code",
   "execution_count": 33,
   "metadata": {},
   "outputs": [],
   "source": [
    "fnn.compile(optimizer='adam', loss='binary_crossentropy', metrics=['accuracy'])"
   ]
  },
  {
   "cell_type": "code",
   "execution_count": 34,
   "metadata": {},
   "outputs": [
    {
     "name": "stdout",
     "output_type": "stream",
     "text": [
      "Epoch 1/10\n"
     ]
    },
    {
     "name": "stdout",
     "output_type": "stream",
     "text": [
      "\u001b[1m1973/1973\u001b[0m \u001b[32m━━━━━━━━━━━━━━━━━━━━\u001b[0m\u001b[37m\u001b[0m \u001b[1m9s\u001b[0m 4ms/step - accuracy: 0.5239 - loss: 11.6145 - val_accuracy: 0.5652 - val_loss: 0.7879\n",
      "Epoch 2/10\n",
      "\u001b[1m1973/1973\u001b[0m \u001b[32m━━━━━━━━━━━━━━━━━━━━\u001b[0m\u001b[37m\u001b[0m \u001b[1m7s\u001b[0m 3ms/step - accuracy: 0.5340 - loss: 0.7548 - val_accuracy: 0.5659 - val_loss: 0.7994\n",
      "Epoch 3/10\n",
      "\u001b[1m1973/1973\u001b[0m \u001b[32m━━━━━━━━━━━━━━━━━━━━\u001b[0m\u001b[37m\u001b[0m \u001b[1m6s\u001b[0m 1ms/step - accuracy: 0.5452 - loss: 0.7178 - val_accuracy: 0.5675 - val_loss: 0.6936\n",
      "Epoch 4/10\n",
      "\u001b[1m1973/1973\u001b[0m \u001b[32m━━━━━━━━━━━━━━━━━━━━\u001b[0m\u001b[37m\u001b[0m \u001b[1m2s\u001b[0m 1ms/step - accuracy: 0.5563 - loss: 0.6926 - val_accuracy: 0.5749 - val_loss: 0.6709\n",
      "Epoch 5/10\n",
      "\u001b[1m1973/1973\u001b[0m \u001b[32m━━━━━━━━━━━━━━━━━━━━\u001b[0m\u001b[37m\u001b[0m \u001b[1m2s\u001b[0m 1ms/step - accuracy: 0.5703 - loss: 0.6792 - val_accuracy: 0.5912 - val_loss: 0.6667\n",
      "Epoch 6/10\n",
      "\u001b[1m1973/1973\u001b[0m \u001b[32m━━━━━━━━━━━━━━━━━━━━\u001b[0m\u001b[37m\u001b[0m \u001b[1m2s\u001b[0m 1ms/step - accuracy: 0.5865 - loss: 0.6711 - val_accuracy: 0.5802 - val_loss: 0.7042\n",
      "Epoch 7/10\n",
      "\u001b[1m1973/1973\u001b[0m \u001b[32m━━━━━━━━━━━━━━━━━━━━\u001b[0m\u001b[37m\u001b[0m \u001b[1m2s\u001b[0m 1ms/step - accuracy: 0.5899 - loss: 0.6710 - val_accuracy: 0.5853 - val_loss: 0.6850\n",
      "Epoch 8/10\n",
      "\u001b[1m1973/1973\u001b[0m \u001b[32m━━━━━━━━━━━━━━━━━━━━\u001b[0m\u001b[37m\u001b[0m \u001b[1m2s\u001b[0m 1ms/step - accuracy: 0.5966 - loss: 0.6644 - val_accuracy: 0.5957 - val_loss: 0.6700\n",
      "Epoch 9/10\n",
      "\u001b[1m1973/1973\u001b[0m \u001b[32m━━━━━━━━━━━━━━━━━━━━\u001b[0m\u001b[37m\u001b[0m \u001b[1m3s\u001b[0m 2ms/step - accuracy: 0.6069 - loss: 0.6594 - val_accuracy: 0.5927 - val_loss: 0.6745\n",
      "Epoch 10/10\n",
      "\u001b[1m1973/1973\u001b[0m \u001b[32m━━━━━━━━━━━━━━━━━━━━\u001b[0m\u001b[37m\u001b[0m \u001b[1m3s\u001b[0m 2ms/step - accuracy: 0.6133 - loss: 0.6547 - val_accuracy: 0.5791 - val_loss: 0.6755\n"
     ]
    },
    {
     "data": {
      "text/plain": [
       "<keras.src.callbacks.history.History at 0x1dc8be208b0>"
      ]
     },
     "execution_count": 34,
     "metadata": {},
     "output_type": "execute_result"
    }
   ],
   "source": [
    "# training phase\n",
    "fnn.fit(padded_sequences, encoded_labels, epochs=10, batch_size=32, validation_split=0.2)"
   ]
  },
  {
   "cell_type": "code",
   "execution_count": 35,
   "metadata": {},
   "outputs": [],
   "source": [
    "fnn.save('../../models/NeuralNetworks/FeedForward/fnn_three_hidden_61.keras')"
   ]
  }
 ],
 "metadata": {
  "kernelspec": {
   "display_name": "env",
   "language": "python",
   "name": "python3"
  },
  "language_info": {
   "codemirror_mode": {
    "name": "ipython",
    "version": 3
   },
   "file_extension": ".py",
   "mimetype": "text/x-python",
   "name": "python",
   "nbconvert_exporter": "python",
   "pygments_lexer": "ipython3",
   "version": "3.10.11"
  }
 },
 "nbformat": 4,
 "nbformat_minor": 2
}
