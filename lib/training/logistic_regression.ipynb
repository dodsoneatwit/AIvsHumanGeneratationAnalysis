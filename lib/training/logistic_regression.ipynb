{
 "cells": [
  {
   "cell_type": "code",
   "execution_count": 7,
   "metadata": {},
   "outputs": [],
   "source": [
    "import pandas as pd\n",
    "import numpy as np\n",
    "import joblib\n",
    "from sklearn.model_selection import train_test_split, GridSearchCV\n",
    "from sklearn.linear_model import LogisticRegression\n",
    "from sklearn.feature_extraction.text import TfidfVectorizer"
   ]
  },
  {
   "cell_type": "code",
   "execution_count": 2,
   "metadata": {},
   "outputs": [
    {
     "data": {
      "text/html": [
       "<div>\n",
       "<style scoped>\n",
       "    .dataframe tbody tr th:only-of-type {\n",
       "        vertical-align: middle;\n",
       "    }\n",
       "\n",
       "    .dataframe tbody tr th {\n",
       "        vertical-align: top;\n",
       "    }\n",
       "\n",
       "    .dataframe thead th {\n",
       "        text-align: right;\n",
       "    }\n",
       "</style>\n",
       "<table border=\"1\" class=\"dataframe\">\n",
       "  <thead>\n",
       "    <tr style=\"text-align: right;\">\n",
       "      <th></th>\n",
       "      <th>Text</th>\n",
       "      <th>Source</th>\n",
       "      <th>Human</th>\n",
       "    </tr>\n",
       "  </thead>\n",
       "  <tbody>\n",
       "    <tr>\n",
       "      <th>0</th>\n",
       "      <td>Federal law supersedes state law cannabis medi...</td>\n",
       "      <td>Bloom-7B</td>\n",
       "      <td>0</td>\n",
       "    </tr>\n",
       "    <tr>\n",
       "      <th>1</th>\n",
       "      <td>Miles feels restless working day decides go pa...</td>\n",
       "      <td>Bloom-7B</td>\n",
       "      <td>0</td>\n",
       "    </tr>\n",
       "    <tr>\n",
       "      <th>2</th>\n",
       "      <td>first danish means follow american politics mu...</td>\n",
       "      <td>Bloom-7B</td>\n",
       "      <td>0</td>\n",
       "    </tr>\n",
       "    <tr>\n",
       "      <th>3</th>\n",
       "      <td>paper present novel rulebased approach Runtime...</td>\n",
       "      <td>Bloom-7B</td>\n",
       "      <td>0</td>\n",
       "    </tr>\n",
       "    <tr>\n",
       "      <th>4</th>\n",
       "      <td>social progressives love democracy relatively ...</td>\n",
       "      <td>Bloom-7B</td>\n",
       "      <td>0</td>\n",
       "    </tr>\n",
       "    <tr>\n",
       "      <th>...</th>\n",
       "      <td>...</td>\n",
       "      <td>...</td>\n",
       "      <td>...</td>\n",
       "    </tr>\n",
       "    <tr>\n",
       "      <th>788917</th>\n",
       "      <td>vast expanse time echoes aeons mingle whispers...</td>\n",
       "      <td>YI-34B</td>\n",
       "      <td>0</td>\n",
       "    </tr>\n",
       "    <tr>\n",
       "      <th>788918</th>\n",
       "      <td>phenomenon brain drain particularly STEM field...</td>\n",
       "      <td>YI-34B</td>\n",
       "      <td>0</td>\n",
       "    </tr>\n",
       "    <tr>\n",
       "      <th>788919</th>\n",
       "      <td>Influence Climate Change Marine Ecosystems Cli...</td>\n",
       "      <td>YI-34B</td>\n",
       "      <td>0</td>\n",
       "    </tr>\n",
       "    <tr>\n",
       "      <th>788920</th>\n",
       "      <td>Title Case Limiting Car Usage Navigating Towar...</td>\n",
       "      <td>YI-34B</td>\n",
       "      <td>0</td>\n",
       "    </tr>\n",
       "    <tr>\n",
       "      <th>788921</th>\n",
       "      <td>vast expanse globalized society cultures inter...</td>\n",
       "      <td>YI-34B</td>\n",
       "      <td>0</td>\n",
       "    </tr>\n",
       "  </tbody>\n",
       "</table>\n",
       "<p>788920 rows × 3 columns</p>\n",
       "</div>"
      ],
      "text/plain": [
       "                                                     Text    Source  Human\n",
       "0       Federal law supersedes state law cannabis medi...  Bloom-7B      0\n",
       "1       Miles feels restless working day decides go pa...  Bloom-7B      0\n",
       "2       first danish means follow american politics mu...  Bloom-7B      0\n",
       "3       paper present novel rulebased approach Runtime...  Bloom-7B      0\n",
       "4       social progressives love democracy relatively ...  Bloom-7B      0\n",
       "...                                                   ...       ...    ...\n",
       "788917  vast expanse time echoes aeons mingle whispers...    YI-34B      0\n",
       "788918  phenomenon brain drain particularly STEM field...    YI-34B      0\n",
       "788919  Influence Climate Change Marine Ecosystems Cli...    YI-34B      0\n",
       "788920  Title Case Limiting Car Usage Navigating Towar...    YI-34B      0\n",
       "788921  vast expanse globalized society cultures inter...    YI-34B      0\n",
       "\n",
       "[788920 rows x 3 columns]"
      ]
     },
     "execution_count": 2,
     "metadata": {},
     "output_type": "execute_result"
    }
   ],
   "source": [
    "dataset = pd.read_csv('../data/preprocessed_data.csv',encoding='ISO-8859-1')\n",
    "dataset = dataset.drop(['Unnamed: 0'], axis=1)\n",
    "dataset = dataset.dropna(subset=['Text'])\n",
    "dataset"
   ]
  },
  {
   "cell_type": "code",
   "execution_count": 3,
   "metadata": {},
   "outputs": [],
   "source": [
    "# Load the pre-fitted vectorizer\n",
    "tfidf = TfidfVectorizer()\n",
    "X = tfidf.fit_transform(dataset['Text'])"
   ]
  },
  {
   "cell_type": "code",
   "execution_count": 4,
   "metadata": {},
   "outputs": [],
   "source": [
    "params = {\n",
    "        'penalty': ['l1', 'l2', 'elasticnet', 'none'],\n",
    "        'C': [0.1, 1, 10, 100],\n",
    "        'solver': ['liblinear', 'saga', 'sag']\n",
    "    }"
   ]
  },
  {
   "cell_type": "code",
   "execution_count": 5,
   "metadata": {},
   "outputs": [],
   "source": [
    "y = dataset['Human']\n",
    "X_train, X_test, y_train, y_test = train_test_split(X, y, test_size=0.3, random_state=42)"
   ]
  },
  {
   "cell_type": "code",
   "execution_count": 11,
   "metadata": {},
   "outputs": [],
   "source": [
    "log = LogisticRegression()\n",
    "grid_search = GridSearchCV(log, params, verbose=1, n_jobs=4)\n",
    "# log.set_params(C=1.7, max_iter=150, penalty='l1', solver='saga')"
   ]
  },
  {
   "cell_type": "code",
   "execution_count": null,
   "metadata": {},
   "outputs": [],
   "source": [
    "# log.fit(X_train, y_train)\n",
    "grid_search.fit(X_train, y_train)"
   ]
  },
  {
   "cell_type": "code",
   "execution_count": null,
   "metadata": {},
   "outputs": [],
   "source": [
    "print(f\"Best Hyperparameters: {grid_search.best_params_}\")"
   ]
  },
  {
   "cell_type": "code",
   "execution_count": 12,
   "metadata": {},
   "outputs": [
    {
     "data": {
      "text/plain": [
       "array([1, 1, 1, ..., 0, 0, 0])"
      ]
     },
     "execution_count": 12,
     "metadata": {},
     "output_type": "execute_result"
    }
   ],
   "source": [
    "# predictions\n",
    "preds_log = log.predict(X_test)\n",
    "preds_log"
   ]
  },
  {
   "cell_type": "code",
   "execution_count": 13,
   "metadata": {},
   "outputs": [
    {
     "name": "stdout",
     "output_type": "stream",
     "text": [
      "Train Score: 0.9145450199549474\n",
      "Test Score: 0.8945731717622404\n"
     ]
    }
   ],
   "source": [
    "# accuracy scores\n",
    "print(f\"Train Score: {log.score(X_train, y_train)}\")\n",
    "print(f\"Test Score: {log.score(X_test, y_test)}\")\n",
    "#print(f\"Logistic Regression Accuracy Score: {accuracy_score(preds_log, y_test)}\")"
   ]
  },
  {
   "cell_type": "code",
   "execution_count": 14,
   "metadata": {},
   "outputs": [
    {
     "data": {
      "text/plain": [
       "['../models/89_logistic_regression_model.pkl']"
      ]
     },
     "execution_count": 14,
     "metadata": {},
     "output_type": "execute_result"
    }
   ],
   "source": [
    "joblib.dump(log, '../models/89_logistic_regression_model.pkl')"
   ]
  },
  {
   "cell_type": "code",
   "execution_count": 15,
   "metadata": {},
   "outputs": [
    {
     "data": {
      "text/plain": [
       "scipy.sparse._csr.csr_matrix"
      ]
     },
     "execution_count": 15,
     "metadata": {},
     "output_type": "execute_result"
    }
   ],
   "source": [
    "type(X_test)"
   ]
  }
 ],
 "metadata": {
  "kernelspec": {
   "display_name": "Python 3",
   "language": "python",
   "name": "python3"
  },
  "language_info": {
   "codemirror_mode": {
    "name": "ipython",
    "version": 3
   },
   "file_extension": ".py",
   "mimetype": "text/x-python",
   "name": "python",
   "nbconvert_exporter": "python",
   "pygments_lexer": "ipython3",
   "version": "3.10.11"
  }
 },
 "nbformat": 4,
 "nbformat_minor": 2
}
